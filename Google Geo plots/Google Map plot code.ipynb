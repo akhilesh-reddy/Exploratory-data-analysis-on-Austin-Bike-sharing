{
 "cells": [
  {
   "cell_type": "code",
   "execution_count": 1,
   "metadata": {
    "scrolled": true
   },
   "outputs": [
    {
     "name": "stdout",
     "output_type": "stream",
     "text": [
      "Populating the interactive namespace from numpy and matplotlib\n"
     ]
    },
    {
     "name": "stderr",
     "output_type": "stream",
     "text": [
      "C:\\Users\\Akhil\\Anaconda2\\lib\\site-packages\\IPython\\core\\magics\\pylab.py:161: UserWarning: pylab import has clobbered these variables: ['datetime', 'time']\n",
      "`%matplotlib` prevents importing * from pylab and numpy\n",
      "  \"\\n`%matplotlib` prevents importing * from pylab and numpy\"\n"
     ]
    }
   ],
   "source": [
    "from datetime import *\n",
    "from gmplot import gmplot\n",
    "import pandas as pd\n",
    "%pylab inline"
   ]
  },
  {
   "cell_type": "code",
   "execution_count": 3,
   "metadata": {},
   "outputs": [],
   "source": [
    "weather=pd.read_csv('austin_weather.csv').drop(['DewPointHighF','DewPointLowF','HumidityHighPercent','HumidityLowPercent',\n",
    "                                               'SeaLevelPressureHighInches','SeaLevelPressureLowInches','VisibilityHighMiles',\n",
    "                                               'VisibilityLowMiles','WindHighMPH','WindGustMPH','HumidityAvgPercent'],1)\n",
    "trips=pd.read_csv('austin_bikeshare_trips.csv')\n",
    "stations = pd.read_csv('austin_bikeshare_stations_w_zipcode.csv').drop(['latitude','longitude','status','name','Unnamed: 0'],1)\n",
    "\n",
    "weather['Rain']=np.where(weather.Events.str.contains('Rain'), 1, 0)\n",
    "weather.Date=pd.to_datetime(weather.Date)\n",
    "weather=weather.set_index('Date').drop('Events',1)\n",
    "\n",
    "ind = pd.DatetimeIndex(trips.start_time)\n",
    "trips['Date'] = ind.date.astype('datetime64')\n",
    "trips['hour'] = ind.hour\n",
    "by_date = trips.pivot_table('trip_id', aggfunc='count',index='Date',columns='subscriber_type', )\n",
    "by_date = trips.groupby(['Date', 'subscriber_type'])['trip_id'].count()\n",
    "by_date.name = 'count'\n",
    "by_date = by_date.reset_index('subscriber_type')\n",
    "trips_2=trips[trips.year.isin([2014,2015,2016])]\n",
    "trip_weather=trips_2.merge(weather,left_on='Date',right_on='Date',\n",
    "                         suffixes=['_trips','_weather']).drop(['SeaLevelPressureAvgInches'],1)\n",
    "\n",
    "trip_weather[\"start_time\"] = trip_weather[\"start_time\"].map(lambda x : datetime.datetime.strptime(x, \"%Y-%m-%d %H:%M:%S\"))\n",
    "trip_weather[\"hours\"] = trip_weather[\"start_time\"].map(lambda x : x.hour)\n",
    "val=''\n",
    "def time_of_day(x):\n",
    "    global val\n",
    "    if (x>=6)&(x<10):\n",
    "        val='morning rush hours'\n",
    "    elif (x>=15)&(x<19):\n",
    "        val='afternoon ruch hours'\n",
    "    elif (x>=10)&(x<15):\n",
    "        val='noon'\n",
    "    elif (x>=19)|(x<6):\n",
    "        val='night'\n",
    "    return val\n",
    "trip_weather['Time of the day'] = trip_weather['hours'].apply(lambda a: time_of_day(a))\n",
    "\n",
    "trip_zipcode=trip_weather.merge(stations,left_on='start_station_id',right_on='station_id')\n",
    "\n",
    "trip_zipcode.loc[trip_zipcode['zipcode'] != 78705, 'University_vicinity'] = 0\n",
    "trip_zipcode.loc[trip_zipcode['zipcode'] == 78705, 'University_vicinity'] = 1\n",
    "trip_zipcode.head()\n",
    "\n",
    "holidays = ['2014-01-01', '2015-01-01', '2016-01-01','2014-01-18', '2014-01-19','2014-01-20','2015-01-17', \n",
    "            '2015-01-18','2015-01-19','2016-01-16', '2016-01-17','2016-01-18','2014-02-15', '2014-02-16', '2014-02-17',\n",
    "            '2015-02-14', '2015-02-15', '2015-02-16','2016-02-13', '2016-02-14', '2016-02-15',\n",
    "            '2014-05-24', '2014-05-25', '2014-05-26','2015-05-23', '2015-05-24', '2015-05-25','2016-05-28', '2016-05-29', \n",
    "            '2016-05-30','2014-07-04', '2014-07-05', '2014-07-06','2015-07-03', '2015-07-04', '2015-07-05',\n",
    "            '2016-07-02', '2016-07-03', '2016-07-04','2014-08-30', '2014-08-31', '2014-09-01','2015-09-05', '2015-09-06',\n",
    "            '2015-09-07','2016-09-03', '2016-09-04', '2016-09-05','2014-10-11', '2014-10-12', '2014-10-13',\n",
    "            '2015-10-10', '2015-10-11', '2015-10-12','2016-10-08', '2016-10-09', '2016-10-10','2014-11-11', '2015-11-11',\n",
    "            '2016-11-11','2014-11-27', '2014-11-28', '2014-11-29', '2014-11-30','2015-11-26', '2015-11-27', '2015-11-28',\n",
    "            '2015-11-29','2016-11-24', '2016-11-25', '2016-11-26', '2016-11-27','2014-12-25', '2014-12-26', '2014-12-27',\n",
    "            '2014-12-28','2015-12-25', '2015-12-26', '2015-12-27', '2015-12-28','2016-12-24', '2016-12-25', '2016-12-26',\n",
    "            '2016-12-27','2014-03-07', '2014-03-16','2015-03-13', '2015-03-22', '2016-12-27','2014-03-07', '2014-03-16',\n",
    "            '2015-03-13', '2015-03-22','2016-03-11', '2016-03-20','2014-10-03', '2014-10-05','2014-10-10', '2014-10-12',\n",
    "            '2015-10-02', '2015-10-04','2015-10-09', '2015-10-11','2016-09-30', '2016-10-02','2016-10-07', '2016-10-09']\n",
    "trip_zipcode.loc[-trip_zipcode['Date'].isin(holidays), 'Holiday_flag'] = 0\n",
    "trip_zipcode.loc[trip_zipcode['Date'].isin(holidays), 'Holiday_flag'] = 1\n",
    "trip_zipcode.head()\n",
    "\n",
    "trip_zipcode['weekday'] = trip_zipcode['Date'].apply(lambda x: x.weekday())\n",
    "trip_zipcode.loc[trip_zipcode['weekday'].isin([1,2,3,4,5]), 'Weekday_flag'] = 1\n",
    "trip_zipcode.loc[trip_zipcode['weekday'].isin([6,7]), 'Weekday_flag'] = 0\n",
    "trip_zipcode.head()\n",
    "\n",
    "trip_zipcode=trip_zipcode.drop(['end_station_id','end_station_name','start_station_name','TempHighF','TempLowF','DewPointAvgF',\n",
    "                  'VisibilityAvgMiles','hours','location','station_id','PrecipitationSumInches',\n",
    "                  'start_time','subscriber_type','year','hour','WindAvgMPH'],1)"
   ]
  },
  {
   "cell_type": "code",
   "execution_count": 4,
   "metadata": {},
   "outputs": [],
   "source": [
    "trips_2 = pd.read_csv(\"austin_bikeshare_trips.csv\")"
   ]
  },
  {
   "cell_type": "code",
   "execution_count": 5,
   "metadata": {},
   "outputs": [],
   "source": [
    "trips = trip_zipcode\n",
    "trips[\"start_time\"] = trips_2[\"start_time\"]\n",
    "trips[\"end_station_id\"] = trips_2[\"end_station_id\"]\n",
    "#transfer time into datetime\n",
    "trips[\"start_time\"] = trips[\"start_time\"].map(lambda x : datetime.datetime.strptime(x, \"%Y-%m-%d %H:%M:%S\"))\n",
    "trips[\"hours\"] = trips[\"start_time\"].map(lambda x : x.hour)\n",
    "trips[\"weekday\"] = trips[\"start_time\"].map(lambda x : x.isoweekday())"
   ]
  },
  {
   "cell_type": "code",
   "execution_count": 6,
   "metadata": {},
   "outputs": [],
   "source": [
    "end = datetime.datetime.strptime(\"2017\", \"%Y\")\n",
    "start = datetime.datetime.strptime(\"2014\", \"%Y\")\n",
    "trips_t_control = trips[(trips[\"start_time\"] > start) & (trips[\"start_time\"] <= end)]"
   ]
  },
  {
   "cell_type": "code",
   "execution_count": 7,
   "metadata": {},
   "outputs": [],
   "source": [
    "def hours_to_category(hours):\n",
    "    if hours >= 7 and hours <= 9:\n",
    "        return \"rush_m\"\n",
    "    elif hours >= 10 and hours <= 4:\n",
    "        return \"day time\"\n",
    "    elif hours >=5 and hours <= 7:\n",
    "        return \"rush_n\"\n",
    "    else:\n",
    "        return \"others\""
   ]
  },
  {
   "cell_type": "code",
   "execution_count": 8,
   "metadata": {},
   "outputs": [
    {
     "name": "stderr",
     "output_type": "stream",
     "text": [
      "C:\\Users\\Akhil\\Anaconda2\\lib\\site-packages\\ipykernel_launcher.py:3: SettingWithCopyWarning: \n",
      "A value is trying to be set on a copy of a slice from a DataFrame.\n",
      "Try using .loc[row_indexer,col_indexer] = value instead\n",
      "\n",
      "See the caveats in the documentation: http://pandas.pydata.org/pandas-docs/stable/indexing.html#indexing-view-versus-copy\n",
      "  This is separate from the ipykernel package so we can avoid doing imports until\n"
     ]
    }
   ],
   "source": [
    "trips[\"time_cat\"] = trips[\"hours\"].map(hours_to_category)\n",
    "\n",
    "trips_t_control[\"time_cat\"] = trips_t_control[\"hours\"].map(hours_to_category)\n"
   ]
  },
  {
   "cell_type": "code",
   "execution_count": 25,
   "metadata": {},
   "outputs": [
    {
     "data": {
      "text/html": [
       "<div>\n",
       "<style scoped>\n",
       "    .dataframe tbody tr th:only-of-type {\n",
       "        vertical-align: middle;\n",
       "    }\n",
       "\n",
       "    .dataframe tbody tr th {\n",
       "        vertical-align: top;\n",
       "    }\n",
       "\n",
       "    .dataframe thead th {\n",
       "        text-align: right;\n",
       "    }\n",
       "</style>\n",
       "<table border=\"1\" class=\"dataframe\">\n",
       "  <thead>\n",
       "    <tr style=\"text-align: right;\">\n",
       "      <th></th>\n",
       "      <th>latitude</th>\n",
       "      <th>location</th>\n",
       "      <th>longitude</th>\n",
       "      <th>name</th>\n",
       "      <th>station_id</th>\n",
       "      <th>status</th>\n",
       "    </tr>\n",
       "  </thead>\n",
       "  <tbody>\n",
       "    <tr>\n",
       "      <th>0</th>\n",
       "      <td>30.27041</td>\n",
       "      <td>(30.27041 -97.75046)</td>\n",
       "      <td>-97.75046</td>\n",
       "      <td>West &amp; 6th St.</td>\n",
       "      <td>2537</td>\n",
       "      <td>active</td>\n",
       "    </tr>\n",
       "    <tr>\n",
       "      <th>9</th>\n",
       "      <td>30.28576</td>\n",
       "      <td>(30.28576 -97.74181)</td>\n",
       "      <td>-97.74181</td>\n",
       "      <td>UT West Mall @ Guadalupe</td>\n",
       "      <td>2548</td>\n",
       "      <td>active</td>\n",
       "    </tr>\n",
       "    <tr>\n",
       "      <th>10</th>\n",
       "      <td>30.27336</td>\n",
       "      <td>(30.27336 -97.73805)</td>\n",
       "      <td>-97.73805</td>\n",
       "      <td>State Capitol Visitors Garage @ San Jacinto &amp; ...</td>\n",
       "      <td>2561</td>\n",
       "      <td>active</td>\n",
       "    </tr>\n",
       "    <tr>\n",
       "      <th>17</th>\n",
       "      <td>30.27466</td>\n",
       "      <td>(30.27466 -97.77028)</td>\n",
       "      <td>-97.77028</td>\n",
       "      <td>MoPac Pedestrian Bridge @ Veterans Drive</td>\n",
       "      <td>3377</td>\n",
       "      <td>active</td>\n",
       "    </tr>\n",
       "    <tr>\n",
       "      <th>21</th>\n",
       "      <td>30.27217</td>\n",
       "      <td>(30.27217 -97.75246)</td>\n",
       "      <td>-97.75246</td>\n",
       "      <td>Henderson &amp; 9th</td>\n",
       "      <td>3685</td>\n",
       "      <td>active</td>\n",
       "    </tr>\n",
       "    <tr>\n",
       "      <th>31</th>\n",
       "      <td>30.27193</td>\n",
       "      <td>(30.27193 -97.73854)</td>\n",
       "      <td>-97.73854</td>\n",
       "      <td>11th &amp; San Jacinto</td>\n",
       "      <td>3291</td>\n",
       "      <td>active</td>\n",
       "    </tr>\n",
       "    <tr>\n",
       "      <th>38</th>\n",
       "      <td>30.27186</td>\n",
       "      <td>(30.27186 -97.73997)</td>\n",
       "      <td>-97.73997</td>\n",
       "      <td>OFFICE/Main/Shop/Repair</td>\n",
       "      <td>1001</td>\n",
       "      <td>active</td>\n",
       "    </tr>\n",
       "    <tr>\n",
       "      <th>53</th>\n",
       "      <td>30.27260</td>\n",
       "      <td>(30.2726 -97.74127)</td>\n",
       "      <td>-97.74127</td>\n",
       "      <td>Capitol Station / Congress &amp; 11th</td>\n",
       "      <td>2497</td>\n",
       "      <td>active</td>\n",
       "    </tr>\n",
       "    <tr>\n",
       "      <th>56</th>\n",
       "      <td>30.28118</td>\n",
       "      <td>(30.28118 -97.75219)</td>\n",
       "      <td>-97.75219</td>\n",
       "      <td>Pease Park</td>\n",
       "      <td>3464</td>\n",
       "      <td>active</td>\n",
       "    </tr>\n",
       "    <tr>\n",
       "      <th>57</th>\n",
       "      <td>30.28039</td>\n",
       "      <td>(30.28039 -97.73809)</td>\n",
       "      <td>-97.73809</td>\n",
       "      <td>Bullock Museum @ Congress &amp; MLK</td>\n",
       "      <td>2538</td>\n",
       "      <td>active</td>\n",
       "    </tr>\n",
       "    <tr>\n",
       "      <th>58</th>\n",
       "      <td>30.27974</td>\n",
       "      <td>(30.27974 -97.74254)</td>\n",
       "      <td>-97.74254</td>\n",
       "      <td>17th &amp; Guadalupe</td>\n",
       "      <td>2540</td>\n",
       "      <td>active</td>\n",
       "    </tr>\n",
       "    <tr>\n",
       "      <th>64</th>\n",
       "      <td>30.27616</td>\n",
       "      <td>(30.27616 -97.74488)</td>\n",
       "      <td>-97.74488</td>\n",
       "      <td>13th &amp; San Antonio</td>\n",
       "      <td>3635</td>\n",
       "      <td>active</td>\n",
       "    </tr>\n",
       "    <tr>\n",
       "      <th>71</th>\n",
       "      <td>30.27654</td>\n",
       "      <td>(30.27654 -97.74155)</td>\n",
       "      <td>-97.74155</td>\n",
       "      <td>State Capitol @ 14th &amp; Colorado</td>\n",
       "      <td>2541</td>\n",
       "      <td>active</td>\n",
       "    </tr>\n",
       "  </tbody>\n",
       "</table>\n",
       "</div>"
      ],
      "text/plain": [
       "    latitude              location  longitude  \\\n",
       "0   30.27041  (30.27041 -97.75046)  -97.75046   \n",
       "9   30.28576  (30.28576 -97.74181)  -97.74181   \n",
       "10  30.27336  (30.27336 -97.73805)  -97.73805   \n",
       "17  30.27466  (30.27466 -97.77028)  -97.77028   \n",
       "21  30.27217  (30.27217 -97.75246)  -97.75246   \n",
       "31  30.27193  (30.27193 -97.73854)  -97.73854   \n",
       "38  30.27186  (30.27186 -97.73997)  -97.73997   \n",
       "53  30.27260   (30.2726 -97.74127)  -97.74127   \n",
       "56  30.28118  (30.28118 -97.75219)  -97.75219   \n",
       "57  30.28039  (30.28039 -97.73809)  -97.73809   \n",
       "58  30.27974  (30.27974 -97.74254)  -97.74254   \n",
       "64  30.27616  (30.27616 -97.74488)  -97.74488   \n",
       "71  30.27654  (30.27654 -97.74155)  -97.74155   \n",
       "\n",
       "                                                 name  station_id  status  \n",
       "0                                      West & 6th St.        2537  active  \n",
       "9                            UT West Mall @ Guadalupe        2548  active  \n",
       "10  State Capitol Visitors Garage @ San Jacinto & ...        2561  active  \n",
       "17           MoPac Pedestrian Bridge @ Veterans Drive        3377  active  \n",
       "21                                    Henderson & 9th        3685  active  \n",
       "31                                 11th & San Jacinto        3291  active  \n",
       "38                            OFFICE/Main/Shop/Repair        1001  active  \n",
       "53                  Capitol Station / Congress & 11th        2497  active  \n",
       "56                                         Pease Park        3464  active  \n",
       "57                    Bullock Museum @ Congress & MLK        2538  active  \n",
       "58                                   17th & Guadalupe        2540  active  \n",
       "64                                 13th & San Antonio        3635  active  \n",
       "71                    State Capitol @ 14th & Colorado        2541  active  "
      ]
     },
     "execution_count": 25,
     "metadata": {},
     "output_type": "execute_result"
    }
   ],
   "source": [
    "stations_close_McCombs = stations[(stations[\"latitude\"] < 30.30) & (stations[\"latitude\"] > 30.27) \\\n",
    "                                 & (stations[\"longitude\"] < -97.6) & (stations[\"longitude\"] > -97.8)\\\n",
    "                                & (stations[\"status\"] == \"active\")]\n",
    "stations_close_McCombs"
   ]
  },
  {
   "cell_type": "code",
   "execution_count": 27,
   "metadata": {
    "scrolled": false
   },
   "outputs": [
    {
     "data": {
      "text/html": [
       "<div>\n",
       "<style scoped>\n",
       "    .dataframe tbody tr th:only-of-type {\n",
       "        vertical-align: middle;\n",
       "    }\n",
       "\n",
       "    .dataframe tbody tr th {\n",
       "        vertical-align: top;\n",
       "    }\n",
       "\n",
       "    .dataframe thead th {\n",
       "        text-align: right;\n",
       "    }\n",
       "</style>\n",
       "<table border=\"1\" class=\"dataframe\">\n",
       "  <thead>\n",
       "    <tr style=\"text-align: right;\">\n",
       "      <th></th>\n",
       "      <th>start_station_id</th>\n",
       "      <th>time_cat</th>\n",
       "      <th>station_id</th>\n",
       "      <th>latitude</th>\n",
       "      <th>longitude</th>\n",
       "      <th>location</th>\n",
       "    </tr>\n",
       "  </thead>\n",
       "  <tbody>\n",
       "    <tr>\n",
       "      <th>0</th>\n",
       "      <td>2548.0</td>\n",
       "      <td>others</td>\n",
       "      <td>2548</td>\n",
       "      <td>30.28576</td>\n",
       "      <td>-97.74181</td>\n",
       "      <td>(30.28576 -97.74181)</td>\n",
       "    </tr>\n",
       "    <tr>\n",
       "      <th>1</th>\n",
       "      <td>2548.0</td>\n",
       "      <td>others</td>\n",
       "      <td>2548</td>\n",
       "      <td>30.28576</td>\n",
       "      <td>-97.74181</td>\n",
       "      <td>(30.28576 -97.74181)</td>\n",
       "    </tr>\n",
       "    <tr>\n",
       "      <th>2</th>\n",
       "      <td>2548.0</td>\n",
       "      <td>others</td>\n",
       "      <td>2548</td>\n",
       "      <td>30.28576</td>\n",
       "      <td>-97.74181</td>\n",
       "      <td>(30.28576 -97.74181)</td>\n",
       "    </tr>\n",
       "    <tr>\n",
       "      <th>3</th>\n",
       "      <td>2548.0</td>\n",
       "      <td>others</td>\n",
       "      <td>2548</td>\n",
       "      <td>30.28576</td>\n",
       "      <td>-97.74181</td>\n",
       "      <td>(30.28576 -97.74181)</td>\n",
       "    </tr>\n",
       "    <tr>\n",
       "      <th>4</th>\n",
       "      <td>2548.0</td>\n",
       "      <td>others</td>\n",
       "      <td>2548</td>\n",
       "      <td>30.28576</td>\n",
       "      <td>-97.74181</td>\n",
       "      <td>(30.28576 -97.74181)</td>\n",
       "    </tr>\n",
       "  </tbody>\n",
       "</table>\n",
       "</div>"
      ],
      "text/plain": [
       "   start_station_id time_cat  station_id  latitude  longitude  \\\n",
       "0            2548.0   others        2548  30.28576  -97.74181   \n",
       "1            2548.0   others        2548  30.28576  -97.74181   \n",
       "2            2548.0   others        2548  30.28576  -97.74181   \n",
       "3            2548.0   others        2548  30.28576  -97.74181   \n",
       "4            2548.0   others        2548  30.28576  -97.74181   \n",
       "\n",
       "               location  \n",
       "0  (30.28576 -97.74181)  \n",
       "1  (30.28576 -97.74181)  \n",
       "2  (30.28576 -97.74181)  \n",
       "3  (30.28576 -97.74181)  \n",
       "4  (30.28576 -97.74181)  "
      ]
     },
     "execution_count": 27,
     "metadata": {},
     "output_type": "execute_result"
    }
   ],
   "source": [
    "borrow_heatmap_df = trips_t_control[[\"start_station_id\",\"time_cat\"]].merge(stations_close_McCombs[[\"station_id\", \"latitude\", \"longitude\",\"location\"]],\n",
    "                                                                          left_on = \"start_station_id\",\n",
    "                                                                         right_on = \"station_id\")\n",
    "borrow_heatmap_df[:5]"
   ]
  },
  {
   "cell_type": "code",
   "execution_count": 9,
   "metadata": {},
   "outputs": [],
   "source": [
    "stations = pd.read_csv('austin_bikeshare_stations.csv')"
   ]
  },
  {
   "cell_type": "markdown",
   "metadata": {},
   "source": [
    "Mask\n",
    "1. Monday\n",
    "2. rush_morning\n"
   ]
  },
  {
   "cell_type": "code",
   "execution_count": 10,
   "metadata": {},
   "outputs": [],
   "source": [
    "def create_plotting_data(mask):\n",
    "    masked_df = trips[mask]\n",
    "    borrowed_df = pd.DataFrame(masked_df.groupby(\"start_station_id\")[\"start_station_id\"].count())\n",
    "    borrowed_df[\"station_id\"] = borrowed_df.index.values\n",
    "    returned_df = pd.DataFrame(masked_df.groupby(\"end_station_id\")[\"end_station_id\"].count())\n",
    "    returned_df[\"station_id\"] = returned_df.index.values\n",
    "\n",
    "    circle_df_borrow = borrowed_df.merge(stations[[\"station_id\", \"latitude\", \"longitude\",\"location\"]],\n",
    "                                                                              left_on = \"station_id\",\n",
    "                                                                              right_on = \"station_id\")\n",
    "    circle_df_borrow.columns = [\"bikes_borrowed\", \"start_station_id\", \"latitude\", \"longitude\",\"location\"]\n",
    "\n",
    "    circle_df_return = returned_df.merge(stations[[\"station_id\", \"latitude\", \"longitude\",\"location\"]],\n",
    "                                                                              left_on = \"station_id\",\n",
    "                                                                              right_on = \"station_id\")\n",
    "    circle_df_return.columns = [\"bikes_returned\", \"end_station_id\", \"latitude\", \"longitude\",\"location\"]\n",
    "\n",
    "    circle_df = circle_df_borrow.merge(circle_df_return, left_on = \"start_station_id\",\n",
    "                                      right_on = \"end_station_id\", how = \"outer\")\n",
    "    return circle_df"
   ]
  },
  {
   "cell_type": "code",
   "execution_count": 11,
   "metadata": {},
   "outputs": [],
   "source": [
    "def plot_circles(circle_df, plot_name ,radius_expand):\n",
    "    gmap = gmplot.GoogleMapPlotter(30.28398,-97.73792, 13)\n",
    "\n",
    "    for i in range(0, circle_df.shape[0]):\n",
    "        if not (np.isnan(circle_df[\"latitude_x\"].iloc[i]) or np.isnan(circle_df[\"latitude_y\"].iloc[i]) ):\n",
    "            if circle_df[\"bikes_borrowed\"].iloc[i] > circle_df[\"bikes_returned\"].iloc[i]:\n",
    "                gmap.circle(circle_df[\"latitude_y\"].iloc[i] , \n",
    "                         circle_df[\"longitude_y\"].iloc[i], \n",
    "                         radius = circle_df[\"bikes_returned\"].iloc[i] *radius_expand,\n",
    "                         color = \"blue\"\n",
    "                        )\n",
    "                gmap.circle(circle_df[\"latitude_x\"].iloc[i] , \n",
    "                         circle_df[\"longitude_x\"].iloc[i], \n",
    "                         radius = circle_df[\"bikes_borrowed\"].iloc[i]*radius_expand,\n",
    "                        color = \"red\"\n",
    "                        )\n",
    "#                print 1,circle_df[\"latitude_x\"].iloc[i], circle_df[\"longitude_x\"].iloc[i],circle_df[\"bikes_borrowed\"].iloc[i]*radius_expand\n",
    "            else:\n",
    "                gmap.circle(circle_df[\"latitude_x\"].iloc[i] , \n",
    "                         circle_df[\"longitude_x\"].iloc[i], \n",
    "                         radius = circle_df[\"bikes_borrowed\"].iloc[i]*radius_expand,\n",
    "                        color = \"red\"\n",
    "                        )\n",
    "                gmap.circle(circle_df[\"latitude_y\"].iloc[i] , \n",
    "                         circle_df[\"longitude_y\"].iloc[i], \n",
    "                         radius = circle_df[\"bikes_returned\"].iloc[i]*radius_expand,\n",
    "                         color = \"blue\"\n",
    "                        )\n",
    "#                print 0, circle_df[\"latitude_x\"].iloc[i], circle_df[\"longitude_x\"].iloc[i],circle_df[\"bikes_borrowed\"].iloc[i]*radius_expand\n",
    "    gmap.draw(plot_name)"
   ]
  },
  {
   "cell_type": "code",
   "execution_count": 12,
   "metadata": {},
   "outputs": [],
   "source": [
    "In_Genral_m = [True] * len(trips)\n",
    "df = create_plotting_data(In_Genral_m)\n",
    "plot_circles(df, \"In_Genral.html\", 0.01)"
   ]
  },
  {
   "cell_type": "code",
   "execution_count": 13,
   "metadata": {},
   "outputs": [],
   "source": [
    "rush_m_sunny = ((trips[\"time_cat\"] == \"rush_m\") & (trips[\"Rain\"] == 0) & (trips[\"weekday\"] < 6))\n",
    "df_1 = create_plotting_data(rush_m_sunny )\n",
    "plot_circles(df_1, \"Morning_Rush_Hours_Sunny.html\", 0.1)"
   ]
  },
  {
   "cell_type": "code",
   "execution_count": 14,
   "metadata": {
    "scrolled": true
   },
   "outputs": [],
   "source": [
    "rush_m_rainy = ((trips[\"time_cat\"] == \"rush_m\") & (trips[\"Rain\"] == 1) & (trips[\"weekday\"] < 6))\n",
    "df_2 = create_plotting_data(rush_m_rainy )\n",
    "plot_circles(df_2, \"Morning_Rush_Hours_Rainy.html\", 0.1)"
   ]
  },
  {
   "cell_type": "code",
   "execution_count": 15,
   "metadata": {
    "scrolled": true
   },
   "outputs": [],
   "source": [
    "rush_m_sunny = ((trips[\"time_cat\"] == \"rush_n\") & (trips[\"Rain\"] == 0) & (trips[\"weekday\"] < 6))\n",
    "df_3 = create_plotting_data(rush_m_sunny )\n",
    "plot_circles(df_3, \"Afternoon_Rush_Hours_Sunny.html\", 1)"
   ]
  },
  {
   "cell_type": "code",
   "execution_count": 16,
   "metadata": {},
   "outputs": [],
   "source": [
    "rush_m_rain = ((trips[\"time_cat\"] == \"rush_n\") & (trips[\"Rain\"] == 1) & (trips[\"weekday\"] < 6))\n",
    "df_4 = create_plotting_data(rush_m_rain )\n",
    "plot_circles(df_4, \"Afternoon_Rush_Hours_Rain.html\", 1)"
   ]
  },
  {
   "cell_type": "code",
   "execution_count": 17,
   "metadata": {
    "scrolled": true
   },
   "outputs": [],
   "source": [
    "weekends =(((trips[\"time_cat\"] == \"rush_m\") | (trips[\"time_cat\"] == \"day time\")) &  (trips[\"weekday\"] >= 6))\n",
    "df_5 = create_plotting_data(weekends)\n",
    "plot_circles(df_5, \"Weekend_daytime.html\", 0.1)"
   ]
  },
  {
   "cell_type": "code",
   "execution_count": 18,
   "metadata": {},
   "outputs": [],
   "source": [
    "SXSW_start_2014 = datetime.datetime(2014, 3, 7, 0, 0, 0)\n",
    "SXSW_end_2014 = datetime.datetime(2014, 3, 14, 23, 59, 59)\n",
    "SXSW_start_2015 = datetime.datetime(2015, 3, 13, 0, 0, 0)\n",
    "SXSW_end_2015 = datetime.datetime(2015, 3, 23, 23, 59, 59)\n",
    "SXSW_start_2016 = datetime.datetime(2016, 3, 11, 0, 0, 0)\n",
    "SXSW_end_2016 = datetime.datetime(2016, 3, 20, 23, 59, 59)"
   ]
  },
  {
   "cell_type": "code",
   "execution_count": 19,
   "metadata": {},
   "outputs": [],
   "source": [
    "SXSW_mask = ((trips_t_control[\"start_time\"] > SXSW_start_2014) & (trips_t_control[\"start_time\"] < SXSW_end_2014)) | \\\n",
    "                   ((trips_t_control[\"start_time\"] > SXSW_start_2015) & (trips_t_control[\"start_time\"] < SXSW_end_2015)) | \\\n",
    "                  ((trips_t_control[\"start_time\"] > SXSW_start_2016) & (trips_t_control[\"start_time\"] < SXSW_end_2016))"
   ]
  },
  {
   "cell_type": "code",
   "execution_count": 20,
   "metadata": {},
   "outputs": [],
   "source": [
    "SXSW_mask =(((trips[\"time_cat\"] == \"rush_m\") | (trips[\"time_cat\"] == \"day time\")) &  SXSW_mask)\n",
    "df_6 = create_plotting_data(SXSW_mask)\n",
    "plot_circles(df_6, \"SXSW.html\", 0.5)"
   ]
  },
  {
   "cell_type": "code",
   "execution_count": null,
   "metadata": {},
   "outputs": [],
   "source": []
  },
  {
   "cell_type": "code",
   "execution_count": 21,
   "metadata": {},
   "outputs": [],
   "source": [
    "ACL_start_2014_W1 = datetime.datetime(2014, 10, 3, 0, 0, 0)\n",
    "ACL_end_2014_W1 = datetime.datetime(2014, 10, 5, 23, 59, 59)\n",
    "ACL_start_2014_W2 = datetime.datetime(2014, 10, 10, 0, 0, 0)\n",
    "ACL_end_2014_W2 = datetime.datetime(2014, 10, 12, 23, 59, 59)\n",
    "ACL_start_2015_W1 = datetime.datetime(2015, 10, 2, 0, 0, 0)\n",
    "ACL_end_2015_W1 = datetime.datetime(2015, 10, 4, 23, 59, 59)\n",
    "ACL_start_2015_W2 = datetime.datetime(2015, 10, 9, 0, 0, 0)\n",
    "ACL_end_2015_W2 = datetime.datetime(2015, 10, 11, 23, 59, 59)\n",
    "ACL_start_2016_W1 = datetime.datetime(2016, 9, 30, 0, 0, 0)\n",
    "ACL_end_2016_W1 = datetime.datetime(2016, 10, 2, 23, 59, 59)\n",
    "ACL_start_2016_W2 = datetime.datetime(2016, 10, 7, 0, 0, 0)\n",
    "ACL_end_2016_W2 = datetime.datetime(2016, 10, 9, 23, 59, 59)\n",
    "\n",
    "ACL_mask = ((trips_t_control[\"start_time\"] > ACL_start_2014_W1) & (trips_t_control[\"start_time\"] < ACL_end_2014_W1)) | \\\n",
    "                  ((trips_t_control[\"start_time\"] > ACL_start_2014_W2) & (trips_t_control[\"start_time\"] < ACL_end_2014_W2)) | \\\n",
    "                   ((trips_t_control[\"start_time\"] > ACL_start_2015_W1) & (trips[\"start_time\"] < ACL_end_2015_W1)) | \\\n",
    "                  (trips_t_control[\"start_time\"] > ACL_start_2015_W2) & (trips_t_control[\"start_time\"] < ACL_end_2015_W2) | \\\n",
    "                 ((trips_t_control[\"start_time\"] > ACL_start_2016_W1) & (trips_t_control[\"start_time\"] < ACL_end_2016_W1)) | \\\n",
    "                ((trips_t_control[\"start_time\"] > ACL_start_2016_W2) & (trips_t_control[\"start_time\"] < ACL_end_2016_W2))"
   ]
  },
  {
   "cell_type": "code",
   "execution_count": 22,
   "metadata": {},
   "outputs": [],
   "source": [
    "#SXSW_mask =(((trips[\"time_cat\"] == \"rush_m\") | (trips[\"time_cat\"] == \"day time\")) &  SXSW_mask)\n",
    "df_7 = create_plotting_data(ACL_mask)\n",
    "plot_circles(df_7, \"ACL.html\", 0.1)"
   ]
  },
  {
   "cell_type": "code",
   "execution_count": null,
   "metadata": {},
   "outputs": [],
   "source": []
  },
  {
   "cell_type": "code",
   "execution_count": 28,
   "metadata": {},
   "outputs": [
    {
     "data": {
      "text/plain": [
       "array([0.15158138, 0.0312236 , 0.24916431, 0.05875546, 0.07594681,\n",
       "       0.06138192, 0.09556258, 0.13635529, 0.00490394, 0.13512471])"
      ]
     },
     "execution_count": 28,
     "metadata": {},
     "output_type": "execute_result"
    }
   ],
   "source": [
    "rush_m_heatmap_df = borrow_heatmap_df[borrow_heatmap_df[\"time_cat\"] == \"rush_m\"]\n",
    "rush_m_heatmap_weight = borrow_heatmap_df.groupby([\"latitude\", \"longitude\"])[\"location\"].count()\n",
    "rush_m_station_lat , rush_m_station_lon = zip(*rush_m_heatmap_weight.index.values)\n",
    "#rush_m_heatmap_weight.values\n",
    "\n",
    "rush_m_heatmap_weight_p = rush_m_heatmap_weight.values/ float(sum(rush_m_heatmap_weight.values))\n",
    "rush_m_heatmap_weight_p"
   ]
  },
  {
   "cell_type": "code",
   "execution_count": 29,
   "metadata": {},
   "outputs": [],
   "source": [
    "gmap = gmplot.GoogleMapPlotter(30.28398,-97.73792, 13)\n",
    "\n",
    "\n",
    "for i in range(0, len(rush_m_station_lat)):\n",
    "    gmap.heatmap([rush_m_station_lat[i]] , \n",
    "                 [rush_m_station_lon[i]], \n",
    "                 radius = rush_m_heatmap_weight_p[i] * 300\n",
    "                )\n",
    "\n",
    "\n",
    "# Draw\n",
    "gmap.draw(\"rush_hour_in_morning.html\")"
   ]
  },
  {
   "cell_type": "code",
   "execution_count": 30,
   "metadata": {},
   "outputs": [
    {
     "name": "stdout",
     "output_type": "stream",
     "text": [
      "(30.27041, -97.75046, 45.474415016713806)\n",
      "(30.271929999999998, -97.73854, 9.367079307938141)\n",
      "(30.2726, -97.74127, 74.74929287734636)\n",
      "(30.273359999999997, -97.73805, 17.62663923887889)\n",
      "(30.274659999999997, -97.77028, 22.784042904896598)\n"
     ]
    }
   ],
   "source": [
    "gmap = gmplot.GoogleMapPlotter(30.28398,-97.73792, 13)\n",
    "\n",
    "\n",
    "for i in range(0, 5):\n",
    "    gmap.circle(rush_m_station_lat[i] , \n",
    "                 rush_m_station_lon[i], \n",
    "                 radius = rush_m_heatmap_weight_p[i] * 300,\n",
    "                color = \"blue\"\n",
    "\n",
    "                )\n",
    "    print(rush_m_station_lat[i], rush_m_station_lon[i],  rush_m_heatmap_weight_p[i] * 300)\n",
    "\n",
    "# Draw\n",
    "gmap.draw(\"rush_hour_in_morning.html\")"
   ]
  },
  {
   "cell_type": "code",
   "execution_count": 64,
   "metadata": {},
   "outputs": [],
   "source": []
  },
  {
   "cell_type": "code",
   "execution_count": 31,
   "metadata": {},
   "outputs": [
    {
     "ename": "NameError",
     "evalue": "name 'circle_df' is not defined",
     "output_type": "error",
     "traceback": [
      "\u001b[1;31m---------------------------------------------------------------------------\u001b[0m",
      "\u001b[1;31mNameError\u001b[0m                                 Traceback (most recent call last)",
      "\u001b[1;32m<ipython-input-31-33895da668c9>\u001b[0m in \u001b[0;36m<module>\u001b[1;34m()\u001b[0m\n\u001b[0;32m      3\u001b[0m \u001b[1;33m\u001b[0m\u001b[0m\n\u001b[0;32m      4\u001b[0m \u001b[1;32mfor\u001b[0m \u001b[0mi\u001b[0m \u001b[1;32min\u001b[0m \u001b[0mrange\u001b[0m\u001b[1;33m(\u001b[0m\u001b[1;36m5\u001b[0m\u001b[1;33m)\u001b[0m\u001b[1;33m:\u001b[0m\u001b[1;33m\u001b[0m\u001b[0m\n\u001b[1;32m----> 5\u001b[1;33m         gmap.circle(circle_df[\"latitude_x\"][i] , \n\u001b[0m\u001b[0;32m      6\u001b[0m                  \u001b[0mcircle_df\u001b[0m\u001b[1;33m[\u001b[0m\u001b[1;34m\"longitude_x\"\u001b[0m\u001b[1;33m]\u001b[0m\u001b[1;33m[\u001b[0m\u001b[0mi\u001b[0m\u001b[1;33m]\u001b[0m\u001b[1;33m,\u001b[0m\u001b[1;33m\u001b[0m\u001b[0m\n\u001b[0;32m      7\u001b[0m                  \u001b[0mradius\u001b[0m \u001b[1;33m=\u001b[0m \u001b[0mcircle_df\u001b[0m\u001b[1;33m[\u001b[0m\u001b[1;34m\"bikes_borrowed\"\u001b[0m\u001b[1;33m]\u001b[0m\u001b[1;33m[\u001b[0m\u001b[0mi\u001b[0m\u001b[1;33m]\u001b[0m\u001b[1;33m,\u001b[0m\u001b[1;33m\u001b[0m\u001b[0m\n",
      "\u001b[1;31mNameError\u001b[0m: name 'circle_df' is not defined"
     ]
    }
   ],
   "source": [
    "gmap = gmplot.GoogleMapPlotter(30.28398,-97.73792, 13)\n",
    "\n",
    "\n",
    "for i in range(5):\n",
    "        gmap.circle(circle_df[\"latitude_x\"][i] , \n",
    "                 circle_df[\"longitude_x\"][i], \n",
    "                 radius = circle_df[\"bikes_borrowed\"][i],\n",
    "                 color = \"red\"\n",
    "                )\n",
    "        print(circle_df[\"latitude_x\"][i], circle_df[\"longitude_x\"][i],  circle_df[\"bikes_borrowed\"][i])\n",
    "\n",
    "# Draw\n",
    "gmap.draw(\"rush_hour_in_morning.html\")"
   ]
  }
 ],
 "metadata": {
  "kernelspec": {
   "display_name": "Python 2",
   "language": "python",
   "name": "python2"
  },
  "language_info": {
   "codemirror_mode": {
    "name": "ipython",
    "version": 2
   },
   "file_extension": ".py",
   "mimetype": "text/x-python",
   "name": "python",
   "nbconvert_exporter": "python",
   "pygments_lexer": "ipython2",
   "version": "2.7.15"
  }
 },
 "nbformat": 4,
 "nbformat_minor": 2
}
